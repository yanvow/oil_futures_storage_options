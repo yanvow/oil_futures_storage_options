{
 "cells": [
  {
   "cell_type": "code",
   "execution_count": 27,
   "metadata": {},
   "outputs": [],
   "source": [
    "import pandas as pd\n",
    "import numpy as np\n",
    "from scipy.optimize import minimize\n",
    "from scipy.stats import norm\n",
    "import scipy.integrate as integrate\n"
   ]
  },
  {
   "cell_type": "code",
   "execution_count": 2,
   "metadata": {},
   "outputs": [],
   "source": [
    "data_df = pd.read_csv('data/Project-Data.csv')\n",
    "data_df.head()"
   ]
  },
  {
   "cell_type": "code",
   "execution_count": 16,
   "metadata": {},
   "outputs": [],
   "source": [
    "sigma_r = 0.00023\n",
    "\n",
    "maturities = data_df['Maturity'].values\n",
    "zc_yields = data_df['ZCYield'].values\n",
    "futures_prices = data_df['FuturesPrice'].values"
   ]
  },
  {
   "cell_type": "markdown",
   "metadata": {},
   "source": [
    "## Bond pricing"
   ]
  },
  {
   "cell_type": "code",
   "execution_count": 5,
   "metadata": {},
   "outputs": [],
   "source": [
    "def b0(T, t, lambda_r, sigma_r, r_bar):\n",
    "    return (np.exp(-2 * lambda_r * (T-t)) * (np.exp(lambda_r * (T-t)) - 1) *\n",
    "            (sigma_r**2 + np.exp(lambda_r * (T-t)) * (4 * lambda_r**2 * r_bar - 3 * sigma_r**2)) +\n",
    "            2 * lambda_r * (T-t) * (sigma_r**2 - 2 * lambda_r**2 * r_bar)) / (4 * lambda_r**3)\n",
    "\n",
    "def br(T, t, lambda_r):\n",
    "    return (np.exp(-lambda_r * (T-t)) - 1) / lambda_r"
   ]
  },
  {
   "cell_type": "code",
   "execution_count": 6,
   "metadata": {},
   "outputs": [],
   "source": [
    "initial_guess = [0.1, 0.03, 0.01]"
   ]
  },
  {
   "cell_type": "markdown",
   "metadata": {},
   "source": [
    "### Least Squares Calibration"
   ]
  },
  {
   "cell_type": "code",
   "execution_count": 7,
   "metadata": {},
   "outputs": [
    {
     "name": "stdout",
     "output_type": "stream",
     "text": [
      "Least Squares Calibration:\n",
      "Mean reversion intensity (lambda_r): 0.2991437388948194\n",
      "Long-term mean (r_bar): 0.010033839633324947\n",
      "Initial value (r0): 0.014603967286584005\n"
     ]
    }
   ],
   "source": [
    "def least_squares_objective(params):\n",
    "    lambda_r, r_bar, r0 = params\n",
    "    error = 0\n",
    "    for maturity, yield_ in zip(maturities, zc_yields):\n",
    "        T = maturity\n",
    "        t = 0  # Assuming current time is 0\n",
    "        P_model = np.exp(b0(T, t, lambda_r, sigma_r, r_bar) + br(T, t, lambda_r) * r0)\n",
    "        P_market = np.exp(-yield_ * (T-t))\n",
    "        error += (P_model - P_market) ** 2\n",
    "    return error\n",
    "\n",
    "least_squares_result = minimize(least_squares_objective, initial_guess, method='Nelder-Mead')\n",
    "lambda_r_ls, r_bar_ls, r0_ls = least_squares_result.x\n",
    "print(f'Least Squares Calibration:')\n",
    "print(f'Mean reversion intensity (lambda_r): {lambda_r_ls}')\n",
    "print(f'Long-term mean (r_bar): {r_bar_ls}')\n",
    "print(f'Initial value (r0): {r0_ls}')"
   ]
  },
  {
   "cell_type": "markdown",
   "metadata": {},
   "source": [
    "### Maximum Likelihood Calibration"
   ]
  },
  {
   "cell_type": "code",
   "execution_count": 8,
   "metadata": {},
   "outputs": [
    {
     "name": "stdout",
     "output_type": "stream",
     "text": [
      "Maximum Likelihood Calibration:\n",
      "Mean reversion intensity (lambda_r): 0.2991437388948194\n",
      "Long-term mean (r_bar): 0.010033839633324947\n",
      "Initial value (r0): 0.014603967286584005\n"
     ]
    }
   ],
   "source": [
    "def log_likelihood(params):\n",
    "    lambda_r, r_bar, r0 = params\n",
    "    likelihood = 0\n",
    "    for maturity, yield_ in zip(maturities, zc_yields):\n",
    "        T = maturity\n",
    "        t = 0  # Assuming current time is 0\n",
    "        P_model = np.exp(b0(T, t, lambda_r, sigma_r, r_bar) + br(T, t, lambda_r) * r0)\n",
    "        P_market = np.exp(-yield_ * (T-t))\n",
    "        likelihood += norm.logpdf(P_market, loc=P_model, scale=sigma_r)\n",
    "    return -likelihood  # Negative log-likelihood\n",
    "\n",
    "mle_result = minimize(log_likelihood, initial_guess, method='Nelder-Mead')\n",
    "lambda_r_mle, r_bar_mle, r0_mle = mle_result.x\n",
    "print(f'Maximum Likelihood Calibration:')\n",
    "print(f'Mean reversion intensity (lambda_r): {lambda_r_mle}')\n",
    "print(f'Long-term mean (r_bar): {r_bar_mle}')\n",
    "print(f'Initial value (r0): {r0_mle}')"
   ]
  },
  {
   "cell_type": "markdown",
   "metadata": {},
   "source": [
    "### Long Term Quantile Method"
   ]
  },
  {
   "cell_type": "code",
   "execution_count": 9,
   "metadata": {},
   "outputs": [
    {
     "name": "stdout",
     "output_type": "stream",
     "text": [
      "Long Term Quantile Calibration:\n",
      "Mean reversion intensity (lambda_r): 0.16322924742036396\n",
      "Long-term mean (r_bar): 0.008550775735612639\n",
      "Initial value (r0): 0.01429913713437552\n"
     ]
    }
   ],
   "source": [
    "def quantile_objective(params):\n",
    "    lambda_r, r_bar, r0 = params\n",
    "    quantile_error = 0\n",
    "    for maturity, yield_ in zip(maturities, zc_yields):\n",
    "        T = maturity\n",
    "        t = 0  # Assuming current time is 0\n",
    "        P_model = np.exp(b0(T, t, lambda_r, sigma_r, r_bar) + br(T, t, lambda_r) * r0)\n",
    "        P_market = np.exp(-yield_ * (T-t))\n",
    "        quantile_error += np.abs(P_model - P_market)  # Absolute error for simplicity\n",
    "    return quantile_error\n",
    "\n",
    "# Perform the optimization\n",
    "quantile_result = minimize(quantile_objective, initial_guess, method='Nelder-Mead')\n",
    "\n",
    "# Extract the calibrated parameters\n",
    "lambda_r_quantile, r_bar_quantile, r0_quantile = quantile_result.x\n",
    "\n",
    "print(f'Long Term Quantile Calibration:')\n",
    "print(f'Mean reversion intensity (lambda_r): {lambda_r_quantile}')\n",
    "print(f'Long-term mean (r_bar): {r_bar_quantile}')\n",
    "print(f'Initial value (r0): {r0_quantile}')"
   ]
  },
  {
   "cell_type": "markdown",
   "metadata": {},
   "source": [
    "## Futures pricing"
   ]
  },
  {
   "cell_type": "code",
   "execution_count": 20,
   "metadata": {},
   "outputs": [
    {
     "name": "stdout",
     "output_type": "stream",
     "text": [
      "Sigma_r: 0.00023\n",
      "Sigma_delta: 0.00012\n",
      "Sigma_O: 0.24000000000000002\n"
     ]
    }
   ],
   "source": [
    "init_spot_price_oil_pb = 80\n",
    "\n",
    "def calculate_volatility_and_correlation(matrix):\n",
    "    var_r = matrix[0, 0]\n",
    "    var_delta = matrix[1, 1]\n",
    "    var_log_O = matrix[2, 2]\n",
    "    \n",
    "    cov_r_delta = matrix[0, 1]\n",
    "    cov_r_log_O = matrix[0, 2]\n",
    "    cov_delta_log_O = matrix[1, 2]\n",
    "    \n",
    "    sigma_r = np.sqrt(var_r)\n",
    "    sigma_delta = np.sqrt(var_delta)\n",
    "    sigma_O = np.sqrt(var_log_O)\n",
    "    \n",
    "    rho_r_delta = cov_r_delta / (sigma_r * sigma_delta)\n",
    "    rho_r_log_O = cov_r_log_O / (sigma_r * sigma_O)\n",
    "    rho_delta_log_O = cov_delta_log_O / (sigma_delta * sigma_O)\n",
    "    \n",
    "    return sigma_r, sigma_delta, sigma_O, rho_r_delta, rho_r_log_O, rho_delta_log_O\n",
    "    \n",
    "# Quadratic variation matrix\n",
    "matrix = np.array([\n",
    "    [0.000529, 0.00003312, 0.44712],\n",
    "    [0.00003312, 0.000144, 0.08352],\n",
    "    [0.44712, 0.08352, 576]\n",
    "]) * 1e-4\n",
    "\n",
    "# Calculate volatility and correlation\n",
    "sigma_r, sigma_delta, sigma_O, rho_r_delta, rho_r_log_O, rho_delta_log_O = calculate_volatility_and_correlation(matrix)\n",
    "print(f'Sigma_r: {sigma_r}')\n",
    "print(f'Sigma_delta: {sigma_delta}')\n",
    "print(f'Sigma_O: {sigma_O}')"
   ]
  },
  {
   "cell_type": "code",
   "execution_count": 68,
   "metadata": {},
   "outputs": [],
   "source": [
    "def futures_price(t, T, rt, delta_t, Ot, phi_0, phi_r, phi_delta):\n",
    "    exponent = phi_0 * (T - t) + \\\n",
    "        phi_r * (T - t) * rt + \\\n",
    "        phi_delta * (T - t) * delta_t        \n",
    "    return np.exp(exponent) * Ot\n",
    "\n",
    "def phi_r(tau, lambda_r):\n",
    "    return (1 - np.exp(-lambda_r * tau)) / lambda_r\n",
    "\n",
    "def phi_delta(tau, lambda_delta):\n",
    "    return (np.exp(-lambda_delta * tau) - 1) / lambda_delta\n",
    "\n",
    "def phi_0(tau, lambda_r, lambda_delta, sigma_r, sigma_delta, sigma_O, bar_delta, bar_r):\n",
    "    def integrand(s):\n",
    "        phi_delta_s = phi_delta(s, lambda_delta)\n",
    "        phi_r_s = phi_r(s, lambda_r)\n",
    "        term1 = phi_delta_s * (2 * lambda_delta * bar_delta + (np.linalg.norm(sigma_O) ** 2) * phi_delta_s + 2 * np.dot(sigma_delta.T, sigma_O))\n",
    "        term2 = 2 * phi_r_s * (lambda_r * bar_r + phi_delta_s * np.dot(sigma_r.T, sigma_O) + np.dot(sigma_r.T, sigma_delta))\n",
    "        term3 = (np.linalg.norm(sigma_r) ** 2) * (phi_r_s ** 2)\n",
    "        return 0.5 * (term1 + term2 + term3)\n",
    "    \n",
    "    phi0, _ = integrate.quad(integrand, 0, tau)\n",
    "    return phi0"
   ]
  },
  {
   "cell_type": "code",
   "execution_count": 76,
   "metadata": {},
   "outputs": [
    {
     "name": "stdout",
     "output_type": "stream",
     "text": [
      "Calibrated parameters:\n",
      "lambda_delta: 1.0368961713229132\n",
      "bar_delta: 0.03625173630807739\n",
      "delta_0: -0.0013515837557829763\n"
     ]
    }
   ],
   "source": [
    "def objective(params, futures_prices, maturities, r0, r_bar, lambda_r, sigma_r, sigma_delta,sigma_O, O0):\n",
    "    lambda_delta, bar_delta, delta_0 = params\n",
    "    r_t = r0 \n",
    "    errors = []\n",
    "    for T, f_observed in zip(maturities, futures_prices):\n",
    "        t = 0\n",
    "        phi_delta_ = phi_delta(T, lambda_delta)\n",
    "        phi_r_ = phi_r(T, lambda_r)\n",
    "        phi_0_ = phi_0(T, lambda_r, lambda_delta, sigma_r, sigma_delta, sigma_O, bar_delta, r_bar)\n",
    "        f_theoretical = futures_price(t, T, r_t, delta_0, O0 , phi_0_, phi_r_, phi_delta_)\n",
    "        # print(f'Theoretical Futures Price: {f_theoretical}')\n",
    "        # print(f'Observed Futures Price: {f_observed}\\n')\n",
    "        error = f_observed - f_theoretical\n",
    "        errors.append(error)\n",
    "    \n",
    "    # return np.sum(np.abs(errors))\n",
    "    return np.sum(np.square(errors))\n",
    "\n",
    "# Initial guesses for parameters\n",
    "initial_guess = [0.3, 0.02, 0.01]\n",
    "\n",
    "# Minimize the objective function\n",
    "args=(futures_prices, maturities, r0_mle, r_bar_mle, lambda_r_mle, sigma_r, sigma_delta, sigma_O, init_spot_price_oil_pb)\n",
    "result = minimize(objective, initial_guess, args=args , method='Nelder-Mead')\n",
    "\n",
    "# Extract the calibrated parameters\n",
    "lambda_delta, bar_delta, delta_0 = result.x\n",
    "\n",
    "print(f\"Calibrated parameters:\")\n",
    "print(f\"lambda_delta: {lambda_delta}\")\n",
    "print(f\"bar_delta: {bar_delta}\")\n",
    "print(f\"delta_0: {delta_0}\")\n"
   ]
  },
  {
   "cell_type": "markdown",
   "metadata": {},
   "source": [
    "## Storage options"
   ]
  },
  {
   "cell_type": "code",
   "execution_count": null,
   "metadata": {},
   "outputs": [],
   "source": []
  }
 ],
 "metadata": {
  "kernelspec": {
   "display_name": "ada",
   "language": "python",
   "name": "python3"
  },
  "language_info": {
   "codemirror_mode": {
    "name": "ipython",
    "version": 3
   },
   "file_extension": ".py",
   "mimetype": "text/x-python",
   "name": "python",
   "nbconvert_exporter": "python",
   "pygments_lexer": "ipython3",
   "version": "3.10.13"
  }
 },
 "nbformat": 4,
 "nbformat_minor": 2
}
