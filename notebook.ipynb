{
 "cells": [
  {
   "cell_type": "code",
   "execution_count": 29,
   "metadata": {},
   "outputs": [],
   "source": [
    "import pandas as pd\n",
    "import numpy as np\n",
    "from scipy.optimize import minimize\n",
    "from scipy.stats import norm\n",
    "import scipy.integrate as integrate\n",
    "import matplotlib.pyplot as plt\n",
    "from scipy.optimize import root_scalar"
   ]
  },
  {
   "cell_type": "code",
   "execution_count": 7,
   "metadata": {},
   "outputs": [
    {
     "data": {
      "text/html": [
       "<div>\n",
       "<style scoped>\n",
       "    .dataframe tbody tr th:only-of-type {\n",
       "        vertical-align: middle;\n",
       "    }\n",
       "\n",
       "    .dataframe tbody tr th {\n",
       "        vertical-align: top;\n",
       "    }\n",
       "\n",
       "    .dataframe thead th {\n",
       "        text-align: right;\n",
       "    }\n",
       "</style>\n",
       "<table border=\"1\" class=\"dataframe\">\n",
       "  <thead>\n",
       "    <tr style=\"text-align: right;\">\n",
       "      <th></th>\n",
       "      <th>Maturity</th>\n",
       "      <th>ZCYield</th>\n",
       "      <th>FuturesPrice</th>\n",
       "    </tr>\n",
       "  </thead>\n",
       "  <tbody>\n",
       "    <tr>\n",
       "      <th>0</th>\n",
       "      <td>0.002778</td>\n",
       "      <td>0.014498</td>\n",
       "      <td>79.998782</td>\n",
       "    </tr>\n",
       "    <tr>\n",
       "      <th>1</th>\n",
       "      <td>0.020833</td>\n",
       "      <td>0.014426</td>\n",
       "      <td>79.994830</td>\n",
       "    </tr>\n",
       "    <tr>\n",
       "      <th>2</th>\n",
       "      <td>0.083333</td>\n",
       "      <td>0.014444</td>\n",
       "      <td>79.973349</td>\n",
       "    </tr>\n",
       "    <tr>\n",
       "      <th>3</th>\n",
       "      <td>0.166667</td>\n",
       "      <td>0.014399</td>\n",
       "      <td>79.954710</td>\n",
       "    </tr>\n",
       "    <tr>\n",
       "      <th>4</th>\n",
       "      <td>0.250000</td>\n",
       "      <td>0.014336</td>\n",
       "      <td>79.911934</td>\n",
       "    </tr>\n",
       "  </tbody>\n",
       "</table>\n",
       "</div>"
      ],
      "text/plain": [
       "   Maturity   ZCYield  FuturesPrice\n",
       "0  0.002778  0.014498     79.998782\n",
       "1  0.020833  0.014426     79.994830\n",
       "2  0.083333  0.014444     79.973349\n",
       "3  0.166667  0.014399     79.954710\n",
       "4  0.250000  0.014336     79.911934"
      ]
     },
     "execution_count": 7,
     "metadata": {},
     "output_type": "execute_result"
    }
   ],
   "source": [
    "data_df = pd.read_csv('data/Project-Data.csv')\n",
    "data_df.head()"
   ]
  },
  {
   "cell_type": "code",
   "execution_count": 8,
   "metadata": {},
   "outputs": [],
   "source": [
    "sigma_r = 0.00023\n",
    "\n",
    "maturities = data_df['Maturity'].values\n",
    "zc_yields = data_df['ZCYield'].values\n",
    "futures_prices = data_df['FuturesPrice'].values"
   ]
  },
  {
   "cell_type": "markdown",
   "metadata": {},
   "source": [
    "## Q18) Bond pricing"
   ]
  },
  {
   "cell_type": "markdown",
   "metadata": {},
   "source": [
    "$$\n",
    "b_0(T, t, \\lambda_r, \\sigma_r, \\bar{r}) = \\frac{ e^{-2 \\lambda_r (T-t)} \\left( e^{\\lambda_r (T-t)} - 1 \\right) \\left( \\sigma_r^2 + e^{\\lambda_r (T-t)} \\left( 4 \\lambda_r^2 \\bar{r} - 3 \\sigma_r^2 \\right) \\right) + 2 \\lambda_r (T-t) \\left( \\sigma_r^2 - 2 \\lambda_r^2 \\bar{r} \\right) }{ 4 \\lambda_r^3 }\n",
    "$$\n"
   ]
  },
  {
   "cell_type": "code",
   "execution_count": 11,
   "metadata": {},
   "outputs": [],
   "source": [
    "def b0(T, t, lambda_r, sigma_r, r_bar):\n",
    "    return (np.exp(-2 * lambda_r * (T-t)) * (np.exp(lambda_r * (T-t)) - 1) *\n",
    "            (sigma_r**2 + np.exp(lambda_r * (T-t)) * (4 * lambda_r**2 * r_bar - 3 * sigma_r**2)) +\n",
    "            2 * lambda_r * (T-t) * (sigma_r**2 - 2 * lambda_r**2 * r_bar)) / (4 * lambda_r**3)"
   ]
  },
  {
   "cell_type": "markdown",
   "metadata": {},
   "source": [
    "\n",
    "$$\n",
    "b_r(T, t, \\lambda_r) = \\frac{ e^{-\\lambda_r (T-t)} - 1 }{ \\lambda_r }\n",
    "$$"
   ]
  },
  {
   "cell_type": "code",
   "execution_count": null,
   "metadata": {},
   "outputs": [],
   "source": [
    "def br(T, t, lambda_r):\n",
    "    return (np.exp(-lambda_r * (T-t)) - 1) / lambda_r"
   ]
  },
  {
   "cell_type": "markdown",
   "metadata": {},
   "source": [
    "### Model Price Calculation:\n",
    "\n",
    "$$\n",
    "P_{\\text{model}} = \\exp \\left( b_0(T, t, \\lambda_r, \\sigma_r, \\bar{r}) + b_r(T, t, \\lambda_r) \\cdot r_0 \\right)\n",
    "$$\n",
    "\n",
    "$$\n",
    "P_{\\text{market}} = \\exp \\left( -\\text{yield} \\cdot (T - t) \\right)\n",
    "$$\n"
   ]
  },
  {
   "cell_type": "markdown",
   "metadata": {},
   "source": [
    "### Least Squares Calibration"
   ]
  },
  {
   "cell_type": "code",
   "execution_count": 13,
   "metadata": {},
   "outputs": [
    {
     "name": "stdout",
     "output_type": "stream",
     "text": [
      "Least Squares Calibration:\n",
      "Mean reversion intensity (lambda_r): 0.2991437388948194\n",
      "Long-term mean (r_bar): 0.010033839633324947\n",
      "Initial value (r0): 0.014603967286584005\n"
     ]
    }
   ],
   "source": [
    "def least_squares_objective(params):\n",
    "    lambda_r, r_bar, r0 = params\n",
    "    error = 0\n",
    "    for maturity, yield_ in zip(maturities, zc_yields):\n",
    "        T = maturity\n",
    "        t = 0  # Assuming current time is 0\n",
    "        P_model = np.exp(b0(T, t, lambda_r, sigma_r, r_bar) + br(T, t, lambda_r) * r0)\n",
    "        P_market = np.exp(-yield_ * (T-t))\n",
    "        error += (P_model - P_market) ** 2\n",
    "    return error\n",
    "\n",
    "initial_guess = [0.1, 0.03, 0.01]\n",
    "least_squares_result = minimize(least_squares_objective, initial_guess, method='Nelder-Mead')\n",
    "lambda_r_ls, r_bar_ls, r0_ls = least_squares_result.x\n",
    "print(f'Least Squares Calibration:')\n",
    "print(f'Mean reversion intensity (lambda_r): {lambda_r_ls}')\n",
    "print(f'Long-term mean (r_bar): {r_bar_ls}')\n",
    "print(f'Initial value (r0): {r0_ls}')"
   ]
  },
  {
   "cell_type": "markdown",
   "metadata": {},
   "source": [
    "### Maximum Likelihood Calibration"
   ]
  },
  {
   "cell_type": "code",
   "execution_count": 14,
   "metadata": {},
   "outputs": [
    {
     "name": "stdout",
     "output_type": "stream",
     "text": [
      "Maximum Likelihood Calibration:\n",
      "Mean reversion intensity (lambda_r): 0.2991437388948194\n",
      "Long-term mean (r_bar): 0.010033839633324947\n",
      "Initial value (r0): 0.014603967286584005\n"
     ]
    }
   ],
   "source": [
    "def log_likelihood(params):\n",
    "    lambda_r, r_bar, r0 = params\n",
    "    likelihood = 0\n",
    "    for maturity, yield_ in zip(maturities, zc_yields):\n",
    "        T = maturity\n",
    "        t = 0  # Assuming current time is 0\n",
    "        P_model = np.exp(b0(T, t, lambda_r, sigma_r, r_bar) + br(T, t, lambda_r) * r0)\n",
    "        P_market = np.exp(-yield_ * (T-t))\n",
    "        likelihood += norm.logpdf(P_market, loc=P_model, scale=sigma_r)\n",
    "    return -likelihood  # Negative log-likelihood\n",
    "\n",
    "mle_result = minimize(log_likelihood, initial_guess, method='Nelder-Mead')\n",
    "lambda_r_mle, r_bar_mle, r0_mle = mle_result.x\n",
    "print(f'Maximum Likelihood Calibration:')\n",
    "print(f'Mean reversion intensity (lambda_r): {lambda_r_mle}')\n",
    "print(f'Long-term mean (r_bar): {r_bar_mle}')\n",
    "print(f'Initial value (r0): {r0_mle}')"
   ]
  },
  {
   "cell_type": "markdown",
   "metadata": {},
   "source": [
    "### Long Term Quantile Method"
   ]
  },
  {
   "cell_type": "code",
   "execution_count": 15,
   "metadata": {},
   "outputs": [
    {
     "name": "stdout",
     "output_type": "stream",
     "text": [
      "Long Term Quantile Calibration:\n",
      "Mean reversion intensity (lambda_r): 0.16322924742036396\n",
      "Long-term mean (r_bar): 0.008550775735612639\n",
      "Initial value (r0): 0.01429913713437552\n"
     ]
    }
   ],
   "source": [
    "def quantile_objective(params):\n",
    "    lambda_r, r_bar, r0 = params\n",
    "    quantile_error = 0\n",
    "    for maturity, yield_ in zip(maturities, zc_yields):\n",
    "        T = maturity\n",
    "        t = 0  # Assuming current time is 0\n",
    "        P_model = np.exp(b0(T, t, lambda_r, sigma_r, r_bar) + br(T, t, lambda_r) * r0)\n",
    "        P_market = np.exp(-yield_ * (T-t))\n",
    "        quantile_error += np.abs(P_model - P_market)  # Absolute error for simplicity\n",
    "    return quantile_error\n",
    "\n",
    "# Perform the optimization\n",
    "quantile_result = minimize(quantile_objective, initial_guess, method='Nelder-Mead')\n",
    "\n",
    "# Extract the calibrated parameters\n",
    "lambda_r_quantile, r_bar_quantile, r0_quantile = quantile_result.x\n",
    "\n",
    "print(f'Long Term Quantile Calibration:')\n",
    "print(f'Mean reversion intensity (lambda_r): {lambda_r_quantile}')\n",
    "print(f'Long-term mean (r_bar): {r_bar_quantile}')\n",
    "print(f'Initial value (r0): {r0_quantile}')"
   ]
  },
  {
   "cell_type": "markdown",
   "metadata": {},
   "source": [
    "## Q19) Futures pricing"
   ]
  },
  {
   "cell_type": "code",
   "execution_count": 65,
   "metadata": {},
   "outputs": [
    {
     "name": "stdout",
     "output_type": "stream",
     "text": [
      "Sigma_r: 0.00023\n",
      "Sigma_delta: 0.00012\n",
      "Sigma_O: 0.24000000000000002\n"
     ]
    }
   ],
   "source": [
    "def calculate_volatility_and_correlation(matrix):\n",
    "    # Extract variances from the diagonal of the matrix\n",
    "    var_r = matrix[0, 0]  \n",
    "    var_delta = matrix[1, 1] \n",
    "    var_log_O = matrix[2, 2] \n",
    "    \n",
    "    # Calculate volatilities as the square roots of the variances\n",
    "    sigma_r = np.sqrt(var_r)  \n",
    "    sigma_delta = np.sqrt(var_delta) \n",
    "    sigma_O = np.sqrt(var_log_O) \n",
    "    \n",
    "    # Extract covariances from the off-diagonal elements of the matrix\n",
    "    cov_r_delta = matrix[0, 1]  \n",
    "    cov_r_log_O = matrix[0, 2] \n",
    "    cov_delta_log_O = matrix[1, 2] \n",
    "    \n",
    "    \n",
    "    # Calculate correlations by dividing the covariances by the product of the respective volatilities\n",
    "    rho_r_delta = cov_r_delta / (sigma_r * sigma_delta)  \n",
    "    rho_r_log_O = cov_r_log_O / (sigma_r * sigma_O)  \n",
    "    rho_delta_log_O = cov_delta_log_O / (sigma_delta * sigma_O) \n",
    "    \n",
    "    return sigma_r, sigma_delta, sigma_O, rho_r_delta, rho_r_log_O, rho_delta_log_O\n",
    "\n",
    "# Define the quadratic variation matrix\n",
    "matrix = np.array([\n",
    "    [0.000529, 0.00003312, 0.44712],  # First row: variance of r, covariance between r and delta, covariance between r and log(O)\n",
    "    [0.00003312, 0.000144, 0.08352],  # Second row: covariance between delta and r, variance of delta, covariance between delta and log(O)\n",
    "    [0.44712, 0.08352, 576]           # Third row: covariance between log(O) and r, covariance between log(O) and delta, variance of log(O)\n",
    "]) * 1e-4 \n",
    "\n",
    "# Calculate the volatilities and correlations\n",
    "sigma_r, sigma_delta, sigma_O, rho_r_delta, rho_r_log_O, rho_delta_log_O = calculate_volatility_and_correlation(matrix)\n",
    "\n",
    "# Print the calculated volatilities\n",
    "print(f'Sigma_r: {sigma_r}')\n",
    "print(f'Sigma_delta: {sigma_delta}')\n",
    "print(f'Sigma_O: {sigma_O}')\n"
   ]
  },
  {
   "cell_type": "markdown",
   "metadata": {},
   "source": [
    "### Futures Price Calculation\n",
    "\n",
    "$$\n",
    "f_{\\text{price}}(t, T, r_t, \\delta_t, O_t, \\phi_0, \\phi_r, \\phi_\\delta) = \\exp \\left( \\phi_0 (T - t) + \\phi_r (T - t) \\cdot r_t + \\phi_\\delta (T - t) \\cdot \\delta_t \\right) \\cdot O_t\n",
    "$$\n"
   ]
  },
  {
   "cell_type": "code",
   "execution_count": 66,
   "metadata": {},
   "outputs": [],
   "source": [
    "def futures_price(t, T, rt, delta_t, Ot, phi_0, phi_r, phi_delta):\n",
    "    exponent = phi_0 * (T - t) + phi_r * (T - t) * rt + phi_delta * (T - t) * delta_t        \n",
    "    return np.exp(exponent) * Ot"
   ]
  },
  {
   "cell_type": "markdown",
   "metadata": {},
   "source": [
    "$$ \\phi_r(\\tau, \\lambda_r) = \\frac{1 - \\exp(-\\lambda_r \\cdot \\tau)}{\\lambda_r} $$\n"
   ]
  },
  {
   "cell_type": "code",
   "execution_count": 67,
   "metadata": {},
   "outputs": [],
   "source": [
    "def phi_r(tau, lambda_r):\n",
    "    return (1 - np.exp(-lambda_r * tau)) / lambda_r"
   ]
  },
  {
   "cell_type": "markdown",
   "metadata": {},
   "source": [
    "\n",
    "\n",
    "$$ \\phi_\\delta(\\tau, \\lambda_\\delta) = \\frac{\\exp(-\\lambda_\\delta \\cdot \\tau) - 1}{\\lambda_\\delta  }$$ \n"
   ]
  },
  {
   "cell_type": "code",
   "execution_count": 68,
   "metadata": {},
   "outputs": [],
   "source": [
    "def phi_delta(tau, lambda_delta):\n",
    "    return (np.exp(-lambda_delta * tau) - 1) / lambda_delta\n"
   ]
  },
  {
   "cell_type": "markdown",
   "metadata": {},
   "source": [
    "\n",
    "$$\n",
    "\\phi_0(\\tau, \\lambda_r, \\lambda_\\delta, \\sigma_r, \\sigma_\\delta, \\sigma_O, \\bar{\\delta}, \\bar{r}) = \\int_0^\\tau \\left[ \\frac{1}{2} \\left( \\phi_\\delta(s, \\lambda_\\delta) \\left( 2 \\lambda_\\delta \\bar{\\delta} + \\|\\sigma_O\\|^2 \\phi_\\delta(s, \\lambda_\\delta) + 2 \\sigma_\\delta^T \\sigma_O \\right) + 2 \\phi_r(s, \\lambda_r) \\left( \\lambda_r \\bar{r} + \\phi_\\delta(s, \\lambda_\\delta) \\sigma_r^T \\sigma_O + \\sigma_r^T \\sigma_\\delta \\right) + \\|\\sigma_r\\|^2 \\phi_r^2(s, \\lambda_r) \\right) \\right] ds\n",
    "$$\n"
   ]
  },
  {
   "cell_type": "code",
   "execution_count": 69,
   "metadata": {},
   "outputs": [],
   "source": [
    "def phi_0(tau, lambda_r, lambda_delta, sigma_r, sigma_delta, sigma_O, bar_delta, bar_r):\n",
    "    def to_integrate(s):\n",
    "        phi_delta_s = phi_delta(s, lambda_delta)\n",
    "        phi_r_s = phi_r(s, lambda_r)\n",
    "        term1 = phi_delta_s * (2 * lambda_delta * bar_delta + (np.linalg.norm(sigma_O) ** 2) * phi_delta_s + 2 * np.dot(sigma_delta.T, sigma_O))\n",
    "        term2 = 2 * phi_r_s * (lambda_r * bar_r + phi_delta_s * np.dot(sigma_r.T, sigma_O) + np.dot(sigma_r.T, sigma_delta))\n",
    "        term3 = (np.linalg.norm(sigma_r) ** 2) * (phi_r_s ** 2)\n",
    "        return 0.5 * (term1 + term2 + term3)\n",
    "    \n",
    "    phi0, _ = integrate.quad(to_integrate, 0, tau)\n",
    "    return phi0"
   ]
  },
  {
   "cell_type": "code",
   "execution_count": 74,
   "metadata": {},
   "outputs": [
    {
     "name": "stdout",
     "output_type": "stream",
     "text": [
      "Calibrated parameters:\n",
      "lambda_delta: 1.3135751847235109\n",
      "bar_delta: 0.02623297287115256\n",
      "delta_0: 0.003952085934558563\n"
     ]
    }
   ],
   "source": [
    "def objective(params, futures_prices, maturities, r0, r_bar, lambda_r, sigma_r, sigma_delta,sigma_O, O0):\n",
    "    lambda_delta, bar_delta, delta_0 = params\n",
    "    t = 0\n",
    "    r_t = r0 \n",
    "    errors = []\n",
    "    for T, f_observed in zip(maturities, futures_prices):\n",
    "        phi_delta_ = phi_delta(T, lambda_delta)\n",
    "        phi_r_ = phi_r(T, lambda_r)\n",
    "        phi_0_ = phi_0(T, lambda_r, lambda_delta, sigma_r, sigma_delta, sigma_O, bar_delta, r_bar)\n",
    "        f_theoretical = futures_price(t, T, r_t, delta_0, O0 , phi_0_, phi_r_, phi_delta_)\n",
    "        # print(f'Theoretical Futures Price: {f_theoretical}')\n",
    "        # print(f'Observed Futures Price: {f_observed}\\n')\n",
    "        error = f_observed - f_theoretical\n",
    "        errors.append(error)\n",
    "    # return np.sum(np.abs(errors)) # MAE\n",
    "    return np.sum(np.square(errors)) # MSE\n",
    "\n",
    "# Initial guesses for parameters\n",
    "initial_guess = [0.3, 0.2, 0.001]\n",
    "# Initial spot price of oil in dollars per barrel\n",
    "init_spot_price_oil_pb = 80\n",
    "\n",
    "# Minimize the objective function\n",
    "args=(futures_prices, maturities, r0_mle, r_bar_mle, lambda_r_mle, sigma_r, sigma_delta, sigma_O, init_spot_price_oil_pb)\n",
    "result = minimize(objective, initial_guess, args=args , method='Nelder-Mead')\n",
    "\n",
    "# Extract the calibrated parameters\n",
    "lambda_delta, bar_delta, delta_0 = result.x\n",
    "\n",
    "print(f\"Calibrated parameters:\")\n",
    "print(f\"lambda_delta: {lambda_delta}\")\n",
    "print(f\"bar_delta: {bar_delta}\")\n",
    "print(f\"delta_0: {delta_0}\")\n"
   ]
  },
  {
   "cell_type": "markdown",
   "metadata": {},
   "source": [
    "## Q20) Storage options"
   ]
  },
  {
   "cell_type": "markdown",
   "metadata": {},
   "source": [
    "$$\n",
    "\\psi_\\delta(s) = \\frac{1 - e^{-\\lambda_\\delta s}}{\\lambda_\\delta}\n",
    "\n",
    "$$\n"
   ]
  },
  {
   "cell_type": "code",
   "execution_count": null,
   "metadata": {},
   "outputs": [],
   "source": [
    "def psi_delta(tau):\n",
    "    return (1 - np.exp(-lambda_delta * tau)) / lambda_delta"
   ]
  },
  {
   "cell_type": "markdown",
   "metadata": {},
   "source": [
    "\n",
    "$$\n",
    "\\psi_0(s) = -\\frac{1}{2} \\|\\sigma_\\delta\\|^2 \\left( \\frac{1 - e^{-\\lambda_\\delta s}}{\\lambda_\\delta} \\right)^2 + \\left( \\lambda_\\delta - \\frac{1}{2} \\|\\sigma_\\delta\\|^2 \\right) s - \\frac{1 - e^{-\\lambda_\\delta s}}{\\lambda_\\delta}\n",
    "$$\n"
   ]
  },
  {
   "cell_type": "code",
   "execution_count": 63,
   "metadata": {},
   "outputs": [],
   "source": [
    "def psi_0(tau):\n",
    "    return -0.5 * sigma_delta**2 * ((1 - np.exp(-lambda_delta * tau)) / lambda_delta)**2 \\\n",
    "           + (lambda_delta - 0.5 * sigma_delta**2) * tau \\\n",
    "            - (1 - np.exp(-lambda_delta * tau)) / lambda_delta\n"
   ]
  },
  {
   "cell_type": "markdown",
   "metadata": {},
   "source": [
    "- We now compute :\n",
    "$ H\\left(\\delta_{T_0}\\right)=-\\alpha \\int_0^{\\Delta} e^{\\psi_0(\\tau)+\\psi_\\delta(\\tau) \\delta_{T_0}} d \\tau$"
   ]
  },
  {
   "cell_type": "code",
   "execution_count": 71,
   "metadata": {},
   "outputs": [],
   "source": [
    "# Define the H function\n",
    "def H(delta, alpha, Delta):\n",
    "    to_integrate = lambda tau: np.exp(psi_0(tau) + psi_delta(tau) * delta)\n",
    "    integral_value, _ = integrate.quad(to_integrate, 0, Delta)\n",
    "    return -alpha * integral_value"
   ]
  },
  {
   "cell_type": "markdown",
   "metadata": {},
   "source": [
    "The payoff at the start date is : \n",
    "$ H\\left(\\delta_{T_0}\\right)^+ = max (0, H\\left(\\delta_{T_0}\\right))$"
   ]
  },
  {
   "cell_type": "code",
   "execution_count": 75,
   "metadata": {},
   "outputs": [],
   "source": [
    "# Compute the payoff at T0\n",
    "def payoff_at_T0( delta_T0,alpha,Delta):\n",
    "    # Compute H(delta_T0)\n",
    "    H_value = H(delta_T0, alpha, Delta)\n",
    "    # Compute the payoff at T0\n",
    "    payoff_T0 = max(0, H_value)\n",
    "    return payoff_T0"
   ]
  },
  {
   "cell_type": "markdown",
   "metadata": {},
   "source": [
    "Now let's find the critical value of the convenience yield. We proved that $\\delta^{+}$ satisfies $H(\\delta^{+})=0 $\n"
   ]
  },
  {
   "cell_type": "code",
   "execution_count": 64,
   "metadata": {},
   "outputs": [
    {
     "data": {
      "image/png": "[encoded data removed]",
      "text/plain": [
       "<Figure size 640x480 with 1 Axes>"
      ]
     },
     "metadata": {},
     "output_type": "display_data"
    },
    {
     "name": "stdout",
     "output_type": "stream",
     "text": [
      "Critical Convenience Yield (delta*): None\n"
     ]
    }
   ],
   "source": [
    "bracket = [-100, 100] # We can adjust the bracket if brentq method\n",
    "x0 = -1 # We can adjust the initial guess if newton method\n",
    "\n",
    "def find_critical_delta(Delta, alpha):\n",
    "    # result = root_scalar(H, args=(Delta, alpha), bracket=bracket, method='brentq')\n",
    "    result = root_scalar(H, args=(Delta, alpha), x0=x0, method='newton')\n",
    "    return result.root if result.converged else None\n",
    "\n",
    "# Plot H(delta) for different values of delta\n",
    "alpha = 0.01\n",
    "Delta = 1/4\n",
    "deltas = np.linspace(bracket[0], bracket[1], 1000)\n",
    "H_values = [H(delta,Delta,alpha) for delta in deltas]\n",
    "\n",
    "plt.plot(deltas, H_values, label='H(delta)')\n",
    "plt.axhline(0, color='r', linestyle='--', label='H(delta) = 0')\n",
    "plt.xlabel('delta')\n",
    "plt.ylabel('H(delta)')\n",
    "plt.title('Plot of H(delta)')\n",
    "plt.legend()\n",
    "plt.grid(True)\n",
    "plt.show()\n",
    "\n",
    "# Calculate critical delta*\n",
    "delta_star = find_critical_delta(Delta, alpha)\n",
    "print(f\"Critical Convenience Yield (delta*): {delta_star}\")"
   ]
  },
  {
   "cell_type": "markdown",
   "metadata": {},
   "source": [
    "Now we need to find the initial price of the storage option:\n",
    "$$\n",
    "\\mathbb{E}_t^{\\mathbb{Q}}\\left[e^{-\\int_t^{T_0} r_u d u} \\mathcal{P}_{T_0}^{+}\\right]=\\mathcal{O}_t \\mathbb{E}_t^{\\overline{\\mathbb{Q}}}\\left[e^{-\\int_t^{T_0} \\delta_u d u} H\\left(\\delta_{T_0}\\right)^{+}\\right]\n",
    "$$\n",
    "\n",
    "So evaluating at $t=T_0$ gives : \n",
    "\n",
    "$$\n",
    "\\mathbb{E}_{T_0}^{\\mathbb{Q}}\\left[e^{-\\int_{T_0}^{T_0} r_u d u} \\mathcal{P}_{T_0}^{+}\\right]=\\mathcal{O}_{T_0} \\mathbb{E}_{T_0}^{\\overline{\\mathbb{Q}}}\\left[e^{-\\int_{T_0}^{T_0} \\delta_u d u} H\\left(\\delta_{T_0}\\right)^{+}\\right]\n",
    "$$ \n",
    "which gives :\n",
    "<!-- $$\n",
    "\\mathcal{P}_{T_0}^{+} = {O}_{T_0} H(\\delta_{T_0})^{+}\n",
    "$$ -->\n",
    "\n",
    "$$ \n",
    "P_0 = {O}_{0} * e^{-\\int_0^{T_0} r_u du } * H\\left(\\delta_{T_0}\\right)^+\n",
    "$$\n"
   ]
  },
  {
   "cell_type": "code",
   "execution_count": 79,
   "metadata": {},
   "outputs": [],
   "source": [
    "# Define the function to compute the initial price of the storage option\n",
    "def initial_price_of_storage_option(O_0, T0, Delta, alpha, delta_T0):\n",
    "    # Compute the payoff at T0\n",
    "    payoff_T0 = payoff_at_T0( delta_T0, Delta, alpha)\n",
    "\n",
    "    # Define the discount factor integrand\n",
    "    discount_integral = lambda tau: np.exp(-r * tau)\n",
    "    \n",
    "    # Compute the discount factor\n",
    "    discount_factor, _ = integrate.quad(discount_integral, 0, T0)\n",
    "    \n",
    "    # Compute the initial price of the storage option\n",
    "    initial_price = O_0* payoff_T0 * discount_factor\n",
    "    return initial_price"
   ]
  },
  {
   "cell_type": "markdown",
   "metadata": {},
   "source": [
    "## Q21) Sensitivity & Dependence "
   ]
  },
  {
   "cell_type": "code",
   "execution_count": 77,
   "metadata": {},
   "outputs": [
    {
     "ename": "NameError",
     "evalue": "name 'O_t' is not defined",
     "output_type": "error",
     "traceback": [
      "\u001b[0;31m---------------------------------------------------------------------------\u001b[0m",
      "\u001b[0;31mNameError\u001b[0m                                 Traceback (most recent call last)",
      "Cell \u001b[0;32mIn[77], line 50\u001b[0m\n\u001b[1;32m     47\u001b[0m     plt\u001b[38;5;241m.\u001b[39mshow()\n\u001b[1;32m     49\u001b[0m \u001b[38;5;66;03m# Perform sensitivity analysis\u001b[39;00m\n\u001b[0;32m---> 50\u001b[0m sensitivity_analysis(\u001b[43mO_t\u001b[49m, T0, Delta, delta_T0, lambda_delta, sigma_delta, r)\n",
      "\u001b[0;31mNameError\u001b[0m: name 'O_t' is not defined"
     ]
    }
   ],
   "source": [
    "def sensitivity_analysis(O_t, T0, Delta, delta_T0, lambda_delta, sigma_delta, r):\n",
    "    \n",
    "    alphas = np.linspace(0.05, 0.2, 10) # We vary the range of alpha\n",
    "    prices_alpha = [initial_price_of_storage_option(O_t, T0, Delta, alpha, delta_T0, lambda_delta, sigma_delta, r) for alpha in alphas]\n",
    "    \n",
    "    T0s = np.linspace(0.1, 1, 10) # We vary the range of T0\n",
    "    prices_T0 = [initial_price_of_storage_option(O_t, T, Delta, alpha, delta_T0, lambda_delta, sigma_delta, r) for T in T0s]\n",
    "    \n",
    "    Deltas = np.linspace(0.5, 2, 10) # We vary the range of Delta\n",
    "    prices_Delta = [initial_price_of_storage_option(O_t, T0, D, alpha, delta_T0, lambda_delta, sigma_delta, r) for D in Deltas]\n",
    "    \n",
    "    rs = np.linspace(0.01, 0.1, 10) # We vary the range of r\n",
    "    prices_r = [initial_price_of_storage_option(O_t, T0, Delta, alpha, delta_T0, lambda_delta, sigma_delta, rate) for rate in rs]\n",
    "    \n",
    "    # Plot the results\n",
    "    plt.figure(figsize=(12, 8))\n",
    "\n",
    "    plt.subplot(2, 2, 1)\n",
    "    plt.plot(alphas, prices_alpha, label='Storage Cost (alpha)')\n",
    "    plt.xlabel('alpha')\n",
    "    plt.ylabel('Initial Price')\n",
    "    plt.title('Sensitivity to alpha')\n",
    "    plt.grid(True)\n",
    "\n",
    "    plt.subplot(2, 2, 2)\n",
    "    plt.plot(T0s, prices_T0, label='Start Date (T0)')\n",
    "    plt.xlabel('T0')\n",
    "    plt.ylabel('Initial Price')\n",
    "    plt.title('Sensitivity to T0')\n",
    "    plt.grid(True)\n",
    "\n",
    "    plt.subplot(2, 2, 3)\n",
    "    plt.plot(Deltas, prices_Delta, label='Storage Period (Delta)')\n",
    "    plt.xlabel('Delta')\n",
    "    plt.ylabel('Initial Price')\n",
    "    plt.title('Sensitivity to Delta')\n",
    "    plt.grid(True)\n",
    "\n",
    "    plt.subplot(2, 2, 4)\n",
    "    plt.plot(rs, prices_r, label='Risk-Free Rate (r)')\n",
    "    plt.xlabel('r')\n",
    "    plt.ylabel('Initial Price')\n",
    "    plt.title('Sensitivity to r')\n",
    "    plt.grid(True)\n",
    "\n",
    "    plt.tight_layout()\n",
    "    plt.show()\n",
    "\n",
    "# Perform sensitivity analysis\n",
    "T0 = 0.5\n",
    "Delta = 1/4\n",
    "alpha = 0.01\n",
    "sensitivity_analysis(init_spot_price_oil_pb, T0, Delta, delta_T0, lambda_delta, sigma_delta, r)\n"
   ]
  },
  {
   "cell_type": "code",
   "execution_count": null,
   "metadata": {},
   "outputs": [],
   "source": []
  }
 ],
 "metadata": {
  "kernelspec": {
   "display_name": "ada",
   "language": "python",
   "name": "python3"
  },
  "language_info": {
   "codemirror_mode": {
    "name": "ipython",
    "version": 3
   },
   "file_extension": ".py",
   "mimetype": "text/x-python",
   "name": "python",
   "nbconvert_exporter": "python",
   "pygments_lexer": "ipython3",
   "version": "3.10.13"
  }
 },
 "nbformat": 4,
 "nbformat_minor": 2
}
