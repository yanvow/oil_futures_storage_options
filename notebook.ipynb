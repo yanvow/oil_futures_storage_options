{
 "cells": [
  {
   "cell_type": "code",
   "execution_count": 18,
   "metadata": {},
   "outputs": [],
   "source": [
    "import pandas as pd\n",
    "import numpy as np\n",
    "from scipy.optimize import minimize\n",
    "from scipy.stats import norm"
   ]
  },
  {
   "cell_type": "code",
   "execution_count": 19,
   "metadata": {},
   "outputs": [],
   "source": [
    "data_df = pd.read_csv('data/Project-Data.csv')"
   ]
  },
  {
   "cell_type": "code",
   "execution_count": 20,
   "metadata": {},
   "outputs": [
    {
     "data": {
      "text/html": [
       "<div>\n",
       "<style scoped>\n",
       "    .dataframe tbody tr th:only-of-type {\n",
       "        vertical-align: middle;\n",
       "    }\n",
       "\n",
       "    .dataframe tbody tr th {\n",
       "        vertical-align: top;\n",
       "    }\n",
       "\n",
       "    .dataframe thead th {\n",
       "        text-align: right;\n",
       "    }\n",
       "</style>\n",
       "<table border=\"1\" class=\"dataframe\">\n",
       "  <thead>\n",
       "    <tr style=\"text-align: right;\">\n",
       "      <th></th>\n",
       "      <th>Maturity</th>\n",
       "      <th>ZCYield</th>\n",
       "      <th>FuturesPrice</th>\n",
       "    </tr>\n",
       "  </thead>\n",
       "  <tbody>\n",
       "    <tr>\n",
       "      <th>0</th>\n",
       "      <td>0.002778</td>\n",
       "      <td>0.014498</td>\n",
       "      <td>79.998782</td>\n",
       "    </tr>\n",
       "    <tr>\n",
       "      <th>1</th>\n",
       "      <td>0.020833</td>\n",
       "      <td>0.014426</td>\n",
       "      <td>79.994830</td>\n",
       "    </tr>\n",
       "    <tr>\n",
       "      <th>2</th>\n",
       "      <td>0.083333</td>\n",
       "      <td>0.014444</td>\n",
       "      <td>79.973349</td>\n",
       "    </tr>\n",
       "    <tr>\n",
       "      <th>3</th>\n",
       "      <td>0.166667</td>\n",
       "      <td>0.014399</td>\n",
       "      <td>79.954710</td>\n",
       "    </tr>\n",
       "    <tr>\n",
       "      <th>4</th>\n",
       "      <td>0.250000</td>\n",
       "      <td>0.014336</td>\n",
       "      <td>79.911934</td>\n",
       "    </tr>\n",
       "  </tbody>\n",
       "</table>\n",
       "</div>"
      ],
      "text/plain": [
       "   Maturity   ZCYield  FuturesPrice\n",
       "0  0.002778  0.014498     79.998782\n",
       "1  0.020833  0.014426     79.994830\n",
       "2  0.083333  0.014444     79.973349\n",
       "3  0.166667  0.014399     79.954710\n",
       "4  0.250000  0.014336     79.911934"
      ]
     },
     "execution_count": 20,
     "metadata": {},
     "output_type": "execute_result"
    }
   ],
   "source": [
    "data_df.head()"
   ]
  },
  {
   "cell_type": "markdown",
   "metadata": {},
   "source": [
    "## Bond pricing"
   ]
  },
  {
   "cell_type": "code",
   "execution_count": 21,
   "metadata": {},
   "outputs": [],
   "source": [
    "sigma_r = 0.00023\n",
    "\n",
    "maturities = data_df['Maturity'].values\n",
    "zc_yields = data_df['ZCYield'].values"
   ]
  },
  {
   "cell_type": "code",
   "execution_count": 22,
   "metadata": {},
   "outputs": [],
   "source": [
    "def b0(T, t, lambda_r, sigma_r, r_bar):\n",
    "    return (np.exp(-2 * lambda_r * (T-t)) * (np.exp(lambda_r * (T-t)) - 1) *\n",
    "            (sigma_r**2 + np.exp(lambda_r * (T-t)) * (4 * lambda_r**2 * r_bar - 3 * sigma_r**2)) +\n",
    "            2 * lambda_r * (T-t) * (sigma_r**2 - 2 * lambda_r**2 * r_bar)) / (4 * lambda_r**3)\n",
    "\n",
    "def br(T, t, lambda_r):\n",
    "    return (np.exp(-lambda_r * (T-t)) - 1) / lambda_r"
   ]
  },
  {
   "cell_type": "code",
   "execution_count": 23,
   "metadata": {},
   "outputs": [],
   "source": [
    "initial_guess = [0.1, 0.03, 0.01]"
   ]
  },
  {
   "cell_type": "markdown",
   "metadata": {},
   "source": [
    "### Least Squares Calibration"
   ]
  },
  {
   "cell_type": "code",
   "execution_count": 30,
   "metadata": {},
   "outputs": [
    {
     "name": "stdout",
     "output_type": "stream",
     "text": [
      "Least Squares Calibration:\n",
      "Mean reversion intensity (lambda_r): 0.2991437388948194\n",
      "Long-term mean (r_bar): 0.010033839633324947\n",
      "Initial value (r0): 0.014603967286584005\n"
     ]
    }
   ],
   "source": [
    "def least_squares_objective(params):\n",
    "    lambda_r, r_bar, r0 = params\n",
    "    error = 0\n",
    "    for maturity, yield_ in zip(maturities, zc_yields):\n",
    "        T = maturity\n",
    "        t = 0  # Assuming current time is 0\n",
    "        P_model = np.exp(b0(T, t, lambda_r, sigma_r, r_bar) + br(T, t, lambda_r) * r0)\n",
    "        P_market = np.exp(-yield_ * (T-t))\n",
    "        error += (P_model - P_market) ** 2\n",
    "    return error\n",
    "\n",
    "least_squares_result = minimize(least_squares_objective, initial_guess, method='Nelder-Mead')\n",
    "lambda_r_ls, r_bar_ls, r0_ls = least_squares_result.x\n",
    "print(f'Least Squares Calibration:')\n",
    "print(f'Mean reversion intensity (lambda_r): {lambda_r_ls}')\n",
    "print(f'Long-term mean (r_bar): {r_bar_ls}')\n",
    "print(f'Initial value (r0): {r0_ls}')"
   ]
  },
  {
   "cell_type": "markdown",
   "metadata": {},
   "source": [
    "### Maximum Likelihood Calibration"
   ]
  },
  {
   "cell_type": "code",
   "execution_count": 26,
   "metadata": {},
   "outputs": [
    {
     "name": "stdout",
     "output_type": "stream",
     "text": [
      "Maximum Likelihood Calibration:\n",
      "Mean reversion intensity (lambda_r): 0.2991437388948194\n",
      "Long-term mean (r_bar): 0.010033839633324947\n",
      "Initial value (r0): 0.014603967286584005\n"
     ]
    }
   ],
   "source": [
    "def log_likelihood(params):\n",
    "    lambda_r, r_bar, r0 = params\n",
    "    likelihood = 0\n",
    "    for maturity, yield_ in zip(maturities, zc_yields):\n",
    "        T = maturity\n",
    "        t = 0  # Assuming current time is 0\n",
    "        P_model = np.exp(b0(T, t, lambda_r, sigma_r, r_bar) + br(T, t, lambda_r) * r0)\n",
    "        P_market = np.exp(-yield_ * (T-t))\n",
    "        likelihood += norm.logpdf(P_market, loc=P_model, scale=sigma_r)\n",
    "    return -likelihood  # Negative log-likelihood\n",
    "\n",
    "mle_result = minimize(log_likelihood, initial_guess, method='Nelder-Mead')\n",
    "lambda_r_mle, r_bar_mle, r0_mle = mle_result.x\n",
    "print(f'Maximum Likelihood Calibration:')\n",
    "print(f'Mean reversion intensity (lambda_r): {lambda_r_mle}')\n",
    "print(f'Long-term mean (r_bar): {r_bar_mle}')\n",
    "print(f'Initial value (r0): {r0_mle}')"
   ]
  },
  {
   "cell_type": "markdown",
   "metadata": {},
   "source": [
    "### Long Term Quantile Method"
   ]
  },
  {
   "cell_type": "code",
   "execution_count": 27,
   "metadata": {},
   "outputs": [
    {
     "name": "stdout",
     "output_type": "stream",
     "text": [
      "Long Term Quantile Calibration:\n",
      "Mean reversion intensity (lambda_r): 0.16322924742036396\n",
      "Long-term mean (r_bar): 0.008550775735612639\n",
      "Initial value (r0): 0.01429913713437552\n"
     ]
    }
   ],
   "source": [
    "def quantile_objective(params):\n",
    "    lambda_r, r_bar, r0 = params\n",
    "    quantile_error = 0\n",
    "    for maturity, yield_ in zip(maturities, zc_yields):\n",
    "        T = maturity\n",
    "        t = 0  # Assuming current time is 0\n",
    "        P_model = np.exp(b0(T, t, lambda_r, sigma_r, r_bar) + br(T, t, lambda_r) * r0)\n",
    "        P_market = np.exp(-yield_ * (T-t))\n",
    "        quantile_error += np.abs(P_model - P_market)  # Absolute error for simplicity\n",
    "    return quantile_error\n",
    "\n",
    "# Perform the optimization\n",
    "quantile_result = minimize(quantile_objective, initial_guess, method='Nelder-Mead')\n",
    "\n",
    "# Extract the calibrated parameters\n",
    "lambda_r_quantile, r_bar_quantile, r0_quantile = quantile_result.x\n",
    "\n",
    "print(f'Long Term Quantile Calibration:')\n",
    "print(f'Mean reversion intensity (lambda_r): {lambda_r_quantile}')\n",
    "print(f'Long-term mean (r_bar): {r_bar_quantile}')\n",
    "print(f'Initial value (r0): {r0_quantile}')"
   ]
  },
  {
   "cell_type": "markdown",
   "metadata": {},
   "source": [
    "## Futures pricing"
   ]
  },
  {
   "cell_type": "code",
   "execution_count": 5,
   "metadata": {},
   "outputs": [
    {
     "data": {
      "text/plain": [
       "matrix([[5.2900e-08, 3.3120e-09, 4.4710e-05],\n",
       "        [3.3120e-09, 1.4400e-08, 8.3500e-06],\n",
       "        [4.4712e-05, 8.3520e-06, 5.7600e-02]])"
      ]
     },
     "execution_count": 5,
     "metadata": {},
     "output_type": "execute_result"
    }
   ],
   "source": [
    "init_spot_price_oil_pb = 80\n",
    "\n",
    "#define matrix complete matrix \n",
    "quad_var = np.matrix('0.000529 0.00003312 0.4471; 0.00003312 0.000144 0.0835; 0.44712 0.08352 576.0')\n",
    "quad_var = quad_var * 0.0001\n",
    "\n",
    "quad_var"
   ]
  },
  {
   "cell_type": "markdown",
   "metadata": {},
   "source": [
    "## Storage options"
   ]
  },
  {
   "cell_type": "code",
   "execution_count": null,
   "metadata": {},
   "outputs": [],
   "source": []
  }
 ],
 "metadata": {
  "kernelspec": {
   "display_name": "ada",
   "language": "python",
   "name": "python3"
  },
  "language_info": {
   "codemirror_mode": {
    "name": "ipython",
    "version": 3
   },
   "file_extension": ".py",
   "mimetype": "text/x-python",
   "name": "python",
   "nbconvert_exporter": "python",
   "pygments_lexer": "ipython3",
   "version": "3.9.18"
  }
 },
 "nbformat": 4,
 "nbformat_minor": 2
}
